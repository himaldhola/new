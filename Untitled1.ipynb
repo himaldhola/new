{
 "cells": [
  {
   "cell_type": "code",
   "execution_count": 1,
   "id": "bfb3d3e6",
   "metadata": {},
   "outputs": [
    {
     "name": "stdout",
     "output_type": "stream",
     "text": [
      "himal\n"
     ]
    }
   ],
   "source": [
    "print('himal')"
   ]
  },
  {
   "cell_type": "code",
   "execution_count": 2,
   "id": "e7710a6d",
   "metadata": {},
   "outputs": [
    {
     "name": "stdout",
     "output_type": "stream",
     "text": [
      "hello himal\n"
     ]
    }
   ],
   "source": [
    "print('hello himal')"
   ]
  },
  {
   "cell_type": "code",
   "execution_count": null,
   "id": "d5afe83a",
   "metadata": {},
   "outputs": [],
   "source": []
  },
  {
   "cell_type": "code",
   "execution_count": null,
   "id": "238ad55f",
   "metadata": {},
   "outputs": [],
   "source": []
  }
 ],
 "metadata": {
  "kernelspec": {
   "display_name": "Python 3 (ipykernel)",
   "language": "python",
   "name": "python3"
  },
  "language_info": {
   "codemirror_mode": {
    "name": "ipython",
    "version": 3
   },
   "file_extension": ".py",
   "mimetype": "text/x-python",
   "name": "python",
   "nbconvert_exporter": "python",
   "pygments_lexer": "ipython3",
   "version": "3.9.13"
  }
 },
 "nbformat": 4,
 "nbformat_minor": 5
}
